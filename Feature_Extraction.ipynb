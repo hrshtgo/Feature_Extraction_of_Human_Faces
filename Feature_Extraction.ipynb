{
  "nbformat": 4,
  "nbformat_minor": 0,
  "metadata": {
    "colab": {
      "provenance": [],
      "include_colab_link": true
    },
    "kernelspec": {
      "name": "python3",
      "display_name": "Python 3"
    },
    "language_info": {
      "name": "python"
    }
  },
  "cells": [
    {
      "cell_type": "markdown",
      "metadata": {
        "id": "view-in-github",
        "colab_type": "text"
      },
      "source": [
        "<a href=\"https://colab.research.google.com/github/hrshtgo/Feature_Extraction_of_Human_Faces/blob/main/Feature_Extraction.ipynb\" target=\"_parent\"><img src=\"https://colab.research.google.com/assets/colab-badge.svg\" alt=\"Open In Colab\"/></a>"
      ]
    },
    {
      "cell_type": "code",
      "execution_count": null,
      "metadata": {
        "id": "_ulvgY2TGYsU"
      },
      "outputs": [],
      "source": [
        "!pip install deepface"
      ]
    },
    {
      "cell_type": "code",
      "source": [
        "import os\n",
        "import pandas\n",
        "from deepface import DeepFace\n",
        "pandas.DataFrame([{'file':img,**DeepFace.analyze(os.path.join('a',img),enforce_detection=False)[0]} for img in os.listdir('a')]).to_csv('results.csv',index=False)"
      ],
      "metadata": {
        "id": "LXYYXX2JW_Bc"
      },
      "execution_count": null,
      "outputs": []
    }
  ]
}