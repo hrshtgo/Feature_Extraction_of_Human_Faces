{
  "nbformat": 4,
  "nbformat_minor": 0,
  "metadata": {
    "colab": {
      "provenance": []
    },
    "kernelspec": {
      "name": "python3",
      "display_name": "Python 3"
    },
    "language_info": {
      "name": "python"
    }
  },
  "cells": [
    {
      "cell_type": "code",
      "execution_count": null,
      "metadata": {
        "id": "_ulvgY2TGYsU"
      },
      "outputs": [],
      "source": [
        "!pip install deepface"
      ]
    },
    {
      "cell_type": "code",
      "source": [
        "import os\n",
        "import pandas\n",
        "from deepface import DeepFace\n",
        "pandas.DataFrame([{'file':img,**DeepFace.analyze(os.path.join('a',img),enforce_detection=False)[0]} for img in os.listdir('a')]).to_csv('results.csv',index=False)"
      ],
      "metadata": {
        "id": "LXYYXX2JW_Bc"
      },
      "execution_count": null,
      "outputs": []
    }
  ]
}